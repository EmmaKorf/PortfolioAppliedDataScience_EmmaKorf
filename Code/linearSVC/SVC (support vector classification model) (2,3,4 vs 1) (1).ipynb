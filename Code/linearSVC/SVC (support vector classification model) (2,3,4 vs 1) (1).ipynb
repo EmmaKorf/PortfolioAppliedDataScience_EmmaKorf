{
 "cells": [
  {
   "cell_type": "markdown",
   "metadata": {},
   "source": [
    "# Support Vector Classification"
   ]
  },
  {
   "cell_type": "code",
   "execution_count": 1,
   "metadata": {},
   "outputs": [],
   "source": [
    "import sys\n",
    "sys.path.append(\"../\")\n",
    "from ortho_lib3_Copy2 import *"
   ]
  },
  {
   "cell_type": "markdown",
   "metadata": {},
   "source": [
    "## Import and load experiment"
   ]
  },
  {
   "cell_type": "code",
   "execution_count": 2,
   "metadata": {},
   "outputs": [],
   "source": [
    "data_dir = '../sliced_data'\n",
    "category = ['Category_1', 'Category_2', 'Category_3', 'Category_4']\n",
    "exercise = 'AB1.txt'\n",
    "extype = ['AB', 'AF', 'RF', 'EL']"
   ]
  },
  {
   "cell_type": "code",
   "execution_count": 3,
   "metadata": {},
   "outputs": [],
   "source": [
    "exercises = Exercises.load(\"..//Pickle/def_exercises_sliced_transformed_data_all_categories.pickle\")\n",
    "\n",
    "# setting the parameters to differentiate between 2, 3, 4 and 1\n",
    "exp = Experiment(exercises, y_condition= lambda y: (y != 'Category_1'))\n",
    "columns = exp.df.columns.to_numpy()"
   ]
  },
  {
   "cell_type": "markdown",
   "metadata": {},
   "source": [
    "## Preview dataframe"
   ]
  },
  {
   "cell_type": "code",
   "execution_count": 4,
   "metadata": {},
   "outputs": [
    {
     "name": "stdout",
     "output_type": "stream",
     "text": [
      "     angle_left_shoulder_xz_max_AF  angle_left_shoulder_xz_max_RF  \\\n",
      "0                         2.705811                       1.200405   \n",
      "1                         2.757520                       1.381570   \n",
      "2                         2.691818                       1.372206   \n",
      "3                         2.524043                       0.687781   \n",
      "4                         2.640875                       1.189572   \n",
      "..                             ...                            ...   \n",
      "102                       2.420555                       1.532106   \n",
      "103                       1.201943                       0.428302   \n",
      "104                       2.186121                       0.580735   \n",
      "105                       1.882206                       0.808175   \n",
      "106                       2.602110                       1.114584   \n",
      "\n",
      "     angle_right_shoulder_xz_max_AF  angle_right_shoulder_xz_max_RF  \\\n",
      "0                          2.880950                        1.022868   \n",
      "1                          2.693907                        1.300333   \n",
      "2                          2.597640                        1.352112   \n",
      "3                          2.581135                        0.931032   \n",
      "4                          2.606757                        1.312657   \n",
      "..                              ...                             ...   \n",
      "102                        2.390046                        1.290075   \n",
      "103                        2.347702                        0.429440   \n",
      "104                        2.082403                        0.712122   \n",
      "105                        2.064096                        0.987518   \n",
      "106                        2.614965                        1.054871   \n",
      "\n",
      "     angle_left_shoulder_yz_max_AB  angle_right_shoulder_yz_max_AB  \\\n",
      "0                         2.536825                        2.785053   \n",
      "1                         2.729818                        2.894459   \n",
      "2                         2.312296                        2.432454   \n",
      "3                         2.606495                        2.639872   \n",
      "4                         2.666926                        2.706126   \n",
      "..                             ...                             ...   \n",
      "102                       2.591977                        2.675785   \n",
      "103                       0.897281                        2.104353   \n",
      "104                       2.649783                        2.220724   \n",
      "105                       2.459425                        2.348511   \n",
      "106                       2.574107                        2.385383   \n",
      "\n",
      "     diff_x_wrist_std_EL  diff_x_wrist_std_AF  diff_x_wrist_std_RF  \\\n",
      "0               0.051140             0.045686             0.047964   \n",
      "1               0.046985             0.032754             0.022710   \n",
      "2               0.018752             0.043444             0.059608   \n",
      "3               0.045662             0.032816             0.036892   \n",
      "4               0.042752             0.048538             0.042671   \n",
      "..                   ...                  ...                  ...   \n",
      "102             0.067242             0.053520             0.045416   \n",
      "103             0.131204             0.461456             0.041716   \n",
      "104             0.022393             0.089273             0.157484   \n",
      "105             0.055195             0.085915             0.043581   \n",
      "106             0.037779             0.128872             0.047050   \n",
      "\n",
      "     diff_x_elbow_std_EL  ...  angular_acc_xz_elbow_r_mean_AF  \\\n",
      "0               0.066650  ...                        0.013454   \n",
      "1               0.035020  ...                        0.009875   \n",
      "2               0.035862  ...                        0.012321   \n",
      "3               0.030882  ...                        0.008630   \n",
      "4               0.015893  ...                        0.007462   \n",
      "..                   ...  ...                             ...   \n",
      "102             0.028010  ...                        0.021898   \n",
      "103             0.038488  ...                        0.030021   \n",
      "104             0.014435  ...                        0.036877   \n",
      "105             0.025565  ...                        0.026531   \n",
      "106             0.029085  ...                        0.032568   \n",
      "\n",
      "     angular_acc_xz_elbow_r_std_AF  angular_acc_xz_elbow_r_mean_RF  \\\n",
      "0                         0.009997                        0.009142   \n",
      "1                         0.007717                        0.009636   \n",
      "2                         0.009420                        0.010026   \n",
      "3                         0.007913                        0.007300   \n",
      "4                         0.006183                        0.007197   \n",
      "..                             ...                             ...   \n",
      "102                       0.022046                        0.029374   \n",
      "103                       0.039972                        0.009998   \n",
      "104                       0.036002                        0.044232   \n",
      "105                       0.030848                        0.030147   \n",
      "106                       0.019488                        0.023850   \n",
      "\n",
      "     angular_acc_xz_elbow_r_std_RF  angular_vel_yz_elbow_l_std_AB  \\\n",
      "0                         0.008593                       0.035317   \n",
      "1                         0.008744                       0.017855   \n",
      "2                         0.008610                       0.028611   \n",
      "3                         0.007061                       0.021368   \n",
      "4                         0.006843                       0.026717   \n",
      "..                             ...                            ...   \n",
      "102                       0.035492                       0.069536   \n",
      "103                       0.007187                       0.013514   \n",
      "104                       0.048294                       0.066856   \n",
      "105                       0.026745                       0.042285   \n",
      "106                       0.021694                       0.057128   \n",
      "\n",
      "     angular_vel_yz_elbow_r_std_AB  angular_acc_yz_elbow_l_mean_AB  \\\n",
      "0                         0.034019                        0.010569   \n",
      "1                         0.019760                        0.009327   \n",
      "2                         0.027344                        0.009416   \n",
      "3                         0.021825                        0.006564   \n",
      "4                         0.023068                        0.007782   \n",
      "..                             ...                             ...   \n",
      "102                       0.066380                        0.033381   \n",
      "103                       0.040844                        0.009843   \n",
      "104                       0.062815                        0.036638   \n",
      "105                       0.048514                        0.019478   \n",
      "106                       0.066880                        0.029559   \n",
      "\n",
      "     angular_acc_yz_elbow_l_std_AB  angular_acc_yz_elbow_r_mean_AB  \\\n",
      "0                         0.008540                        0.009179   \n",
      "1                         0.008234                        0.008376   \n",
      "2                         0.007159                        0.008765   \n",
      "3                         0.007230                        0.007175   \n",
      "4                         0.011197                        0.007356   \n",
      "..                             ...                             ...   \n",
      "102                       0.031042                        0.032047   \n",
      "103                       0.008446                        0.017797   \n",
      "104                       0.035517                        0.042551   \n",
      "105                       0.018303                        0.019738   \n",
      "106                       0.022851                        0.030719   \n",
      "\n",
      "     angular_acc_yz_elbow_r_std_AB  \n",
      "0                         0.008611  \n",
      "1                         0.006633  \n",
      "2                         0.007664  \n",
      "3                         0.007337  \n",
      "4                         0.005814  \n",
      "..                             ...  \n",
      "102                       0.036677  \n",
      "103                       0.019753  \n",
      "104                       0.033384  \n",
      "105                       0.018876  \n",
      "106                       0.026552  \n",
      "\n",
      "[107 rows x 78 columns]\n"
     ]
    }
   ],
   "source": [
    "# quick preview of the dataframe we are working with\n",
    "print(exp.df)"
   ]
  },
  {
   "cell_type": "markdown",
   "metadata": {},
   "source": [
    "## Run experiments for X and y"
   ]
  },
  {
   "cell_type": "code",
   "execution_count": 5,
   "metadata": {},
   "outputs": [],
   "source": [
    "X = exp.df.values\n",
    "y = exp.y\n",
    "\n",
    "# print(X)\n",
    "# print(y)"
   ]
  },
  {
   "cell_type": "markdown",
   "metadata": {},
   "source": [
    "## Import libraries"
   ]
  },
  {
   "cell_type": "code",
   "execution_count": 6,
   "metadata": {},
   "outputs": [],
   "source": [
    "from sklearn.model_selection import StratifiedKFold\n",
    "from sklearn import svm\n",
    "from sklearn.metrics import classification_report\n",
    "import pandas as pd\n",
    "import matplotlib.pyplot as plt"
   ]
  },
  {
   "cell_type": "markdown",
   "metadata": {},
   "source": [
    "## Applied SKF and get results"
   ]
  },
  {
   "cell_type": "code",
   "execution_count": 31,
   "metadata": {
    "scrolled": true
   },
   "outputs": [
    {
     "name": "stderr",
     "output_type": "stream",
     "text": [
      "/opt/jupyterhub/anaconda/lib/python3.6/site-packages/sklearn/metrics/_classification.py:1221: UndefinedMetricWarning:\n",
      "\n",
      "Precision and F-score are ill-defined and being set to 0.0 in labels with no predicted samples. Use `zero_division` parameter to control this behavior.\n",
      "\n",
      "/opt/jupyterhub/anaconda/lib/python3.6/site-packages/sklearn/metrics/_classification.py:1221: UndefinedMetricWarning:\n",
      "\n",
      "Precision and F-score are ill-defined and being set to 0.0 in labels with no predicted samples. Use `zero_division` parameter to control this behavior.\n",
      "\n",
      "/opt/jupyterhub/anaconda/lib/python3.6/site-packages/sklearn/metrics/_classification.py:1221: UndefinedMetricWarning:\n",
      "\n",
      "Precision and F-score are ill-defined and being set to 0.0 in labels with no predicted samples. Use `zero_division` parameter to control this behavior.\n",
      "\n",
      "/opt/jupyterhub/anaconda/lib/python3.6/site-packages/sklearn/metrics/_classification.py:1221: UndefinedMetricWarning:\n",
      "\n",
      "Precision and F-score are ill-defined and being set to 0.0 in labels with no predicted samples. Use `zero_division` parameter to control this behavior.\n",
      "\n",
      "/opt/jupyterhub/anaconda/lib/python3.6/site-packages/sklearn/metrics/_classification.py:1221: UndefinedMetricWarning:\n",
      "\n",
      "Precision and F-score are ill-defined and being set to 0.0 in labels with no predicted samples. Use `zero_division` parameter to control this behavior.\n",
      "\n",
      "/opt/jupyterhub/anaconda/lib/python3.6/site-packages/sklearn/metrics/_classification.py:1221: UndefinedMetricWarning:\n",
      "\n",
      "Precision and F-score are ill-defined and being set to 0.0 in labels with no predicted samples. Use `zero_division` parameter to control this behavior.\n",
      "\n",
      "/opt/jupyterhub/anaconda/lib/python3.6/site-packages/sklearn/metrics/_classification.py:1221: UndefinedMetricWarning:\n",
      "\n",
      "Precision and F-score are ill-defined and being set to 0.0 in labels with no predicted samples. Use `zero_division` parameter to control this behavior.\n",
      "\n",
      "/opt/jupyterhub/anaconda/lib/python3.6/site-packages/sklearn/metrics/_classification.py:1221: UndefinedMetricWarning:\n",
      "\n",
      "Precision and F-score are ill-defined and being set to 0.0 in labels with no predicted samples. Use `zero_division` parameter to control this behavior.\n",
      "\n",
      "/opt/jupyterhub/anaconda/lib/python3.6/site-packages/sklearn/metrics/_classification.py:1221: UndefinedMetricWarning:\n",
      "\n",
      "Precision and F-score are ill-defined and being set to 0.0 in labels with no predicted samples. Use `zero_division` parameter to control this behavior.\n",
      "\n",
      "/opt/jupyterhub/anaconda/lib/python3.6/site-packages/sklearn/metrics/_classification.py:1221: UndefinedMetricWarning:\n",
      "\n",
      "Precision and F-score are ill-defined and being set to 0.0 in labels with no predicted samples. Use `zero_division` parameter to control this behavior.\n",
      "\n",
      "/opt/jupyterhub/anaconda/lib/python3.6/site-packages/sklearn/metrics/_classification.py:1221: UndefinedMetricWarning:\n",
      "\n",
      "Precision and F-score are ill-defined and being set to 0.0 in labels with no predicted samples. Use `zero_division` parameter to control this behavior.\n",
      "\n",
      "/opt/jupyterhub/anaconda/lib/python3.6/site-packages/sklearn/metrics/_classification.py:1221: UndefinedMetricWarning:\n",
      "\n",
      "Precision and F-score are ill-defined and being set to 0.0 in labels with no predicted samples. Use `zero_division` parameter to control this behavior.\n",
      "\n",
      "/opt/jupyterhub/anaconda/lib/python3.6/site-packages/sklearn/metrics/_classification.py:1221: UndefinedMetricWarning:\n",
      "\n",
      "Precision and F-score are ill-defined and being set to 0.0 in labels with no predicted samples. Use `zero_division` parameter to control this behavior.\n",
      "\n",
      "/opt/jupyterhub/anaconda/lib/python3.6/site-packages/sklearn/metrics/_classification.py:1221: UndefinedMetricWarning:\n",
      "\n",
      "Precision and F-score are ill-defined and being set to 0.0 in labels with no predicted samples. Use `zero_division` parameter to control this behavior.\n",
      "\n",
      "/opt/jupyterhub/anaconda/lib/python3.6/site-packages/sklearn/metrics/_classification.py:1221: UndefinedMetricWarning:\n",
      "\n",
      "Precision and F-score are ill-defined and being set to 0.0 in labels with no predicted samples. Use `zero_division` parameter to control this behavior.\n",
      "\n"
     ]
    }
   ],
   "source": [
    "# introduce StratifiedKFold\n",
    "skf = StratifiedKFold(n_splits=5, random_state=None, shuffle=False)\n",
    "\n",
    "df_scores = pd.DataFrame()\n",
    "\n",
    "i=1\n",
    "c_list = []\n",
    "mean_precision_list = []\n",
    "mean_recall_list = []\n",
    "mean_f1_score_list = []\n",
    "mean_accuracy_list = []\n",
    "\n",
    "# iterate over different values for hyper parameter C for 0.0001 to 100000\n",
    "\n",
    "for iterate in range(-4, 5):\n",
    "    precision_list = []\n",
    "    recall_list = []\n",
    "    f1_score_list = []\n",
    "    accuracy_list=[]\n",
    "    c = 10 ** iterate\n",
    "    # print(iterate)\n",
    "    \n",
    "    for train_index, test_index in skf.split(X, y):\n",
    "        \n",
    "        if iterate not in c_list:\n",
    "            c_list.append(iterate)\n",
    "        \n",
    "        Xtrain, Xtest = X[train_index], X[test_index]\n",
    "        ytrain, ytest = y[train_index], y[test_index]\n",
    "      \n",
    "        regr = svm.LinearSVC(penalty='l2', loss='squared_hinge', C = c, max_iter=1000000)\n",
    "        regr.fit(Xtrain, ytrain)\n",
    "        \n",
    "        ypred = regr.predict(Xtest)\n",
    "        \n",
    "        report = classification_report(ytest, ypred.round(), output_dict=True)\n",
    "        recall = (report.get('weighted avg').get('recall'))\n",
    "        precision = (report.get('weighted avg').get('precision'))\n",
    "        f1_score = (report.get('weighted avg').get('f1-score'))\n",
    "        accuracy = (report.get('accuracy'))\n",
    "        \n",
    "        # add results to the list\n",
    "        precision_list.append(precision)\n",
    "        recall_list.append(recall)\n",
    "        f1_score_list.append(f1_score)\n",
    "        accuracy_list.append(accuracy)\n",
    "        \n",
    "        i=i+1\n",
    "        \n",
    "    # take the mean of the list (needed because of the repetition due to SKF)\n",
    "    mean_precision_list.append(np.mean(precision_list))\n",
    "    mean_recall_list.append(np.mean(recall_list))\n",
    "    mean_f1_score_list.append(np.mean(f1_score_list))\n",
    "    mean_accuracy_list.append(np.mean(accuracy_list))\n",
    "    \n",
    "    df_scores['average'] = df_scores.mean(axis=1)\n",
    "    df_scores['feature'] = exp.df.columns\n",
    "    \n",
    "    # print the values for each hyper parameter\n",
    "    # print(f'precision: {np.mean(precision_list)} \\nrecall: {np.mean(recall_list)} \\nf1_score: {np.mean(f1_score_list)} \\naccuracy: {np.mean(accuracy_list)}')\n",
    "    "
   ]
  },
  {
   "cell_type": "markdown",
   "metadata": {},
   "source": [
    "## Plot figure to visualize optimal hyperparameter (c)"
   ]
  },
  {
   "cell_type": "code",
   "execution_count": 8,
   "metadata": {},
   "outputs": [
    {
     "data": {
      "image/png": "[encoded data removed]",
      "text/plain": [
       "<Figure size 432x288 with 1 Axes>"
      ]
     },
     "metadata": {
      "needs_background": "light"
     },
     "output_type": "display_data"
    }
   ],
   "source": [
    "# plot the results (precision, recall and accuracy) for every value of c from 10^-4 to 10^5 in steps of one in the exponent\n",
    "\n",
    "plt.plot(c_list, mean_precision_list, label='precision')\n",
    "plt.plot(c_list, mean_recall_list, label='recall', marker='o')\n",
    "plt.plot(c_list, mean_accuracy_list, label='accuracy')\n",
    "plt.xlabel('c (increasing by 10ex)')\n",
    "plt.ylabel('precision, recall, accuracy')\n",
    "plt.legend()\n",
    "plt.show()"
   ]
  },
  {
   "cell_type": "code",
   "execution_count": 12,
   "metadata": {
    "scrolled": true
   },
   "outputs": [
    {
     "data": {
      "application/vnd.jupyter.widget-view+json": {
       "model_id": "dbe2bff27a8b451c8cec162e661d6b0b",
       "version_major": 2,
       "version_minor": 0
      },
      "text/plain": [
       "VBox(children=(HTML(value=''), IntProgress(value=0, max=198)))"
      ]
     },
     "metadata": {},
     "output_type": "display_data"
    }
   ],
   "source": [
    "# create dataframes of the data\n",
    "\n",
    "dffs_test_1_234 = create_dfframes(['Category_1', 'Category_2', 'Category_3', 'Category_4'], \n",
    "                            extype = ['AB', 'AF', 'RF', 'EL'], \n",
    "                            data_dir = '../sliced_transformed_testdata', \n",
    "                            print_errors=True)\n",
    "exercises_test_1_234 = dffs_to_exercises(dffs_test_1_234)"
   ]
  },
  {
   "cell_type": "code",
   "execution_count": 13,
   "metadata": {},
   "outputs": [],
   "source": [
    "# run experiments in the loaded data\n",
    "\n",
    "exp_test_1_234 = Experiment(exercises_test_1_234, y_condition= lambda y: y != 'Category_1')\n",
    "columns = exp_test_1_234.df.columns.to_numpy()\n",
    "\n",
    "# initialise the X test set and y test set\n",
    "\n",
    "X_test_1_234 = exp_test_1_234.df.values\n",
    "y_test_1_234 = exp_test_1_234.y"
   ]
  },
  {
   "cell_type": "code",
   "execution_count": 21,
   "metadata": {},
   "outputs": [],
   "source": [
    "# apply linear SVC on the data, using the optimal hyper parameter (in this case c = 10)\n",
    "\n",
    "regr_1_234 = svm.LinearSVC(penalty='l2', loss='squared_hinge', C = 10, max_iter=1000000)\n",
    "regr_1_234.fit(X, y)\n",
    "\n",
    "ypred_1_234 = regr_1_234.predict(X_test_1_234)    \n",
    "report_1_234 = classification_report(y_test_1_234, ypred_1_234.round(), output_dict=True)"
   ]
  },
  {
   "cell_type": "code",
   "execution_count": 22,
   "metadata": {
    "scrolled": true
   },
   "outputs": [
    {
     "name": "stdout",
     "output_type": "stream",
     "text": [
      "accuracy 2, 3, 4 vs 1:  0.88\n",
      "{'precision': 0.8760000000000001, 'recall': 0.88, 'f1-score': 0.8760839160839161, 'support': 25}\n"
     ]
    }
   ],
   "source": [
    "print('accuracy 2, 3, 4 vs 1: ', report_1_234['accuracy'])\n",
    "print(report_1_234['weighted avg'])"
   ]
  },
  {
   "cell_type": "markdown",
   "metadata": {},
   "source": []
  }
 ],
 "metadata": {
  "kernelspec": {
   "display_name": "Python 3",
   "language": "python",
   "name": "python3"
  },
  "language_info": {
   "codemirror_mode": {
    "name": "ipython",
    "version": 3
   },
   "file_extension": ".py",
   "mimetype": "text/x-python",
   "name": "python",
   "nbconvert_exporter": "python",
   "pygments_lexer": "ipython3",
   "version": "3.6.10"
  },
  "varInspector": {
   "cols": {
    "lenName": 16,
    "lenType": 16,
    "lenVar": 40
   },
   "kernels_config": {
    "python": {
     "delete_cmd_postfix": "",
     "delete_cmd_prefix": "del ",
     "library": "var_list.py",
     "varRefreshCmd": "print(var_dic_list())"
    },
    "r": {
     "delete_cmd_postfix": ") ",
     "delete_cmd_prefix": "rm(",
     "library": "var_list.r",
     "varRefreshCmd": "cat(var_dic_list()) "
    }
   },
   "types_to_exclude": [
    "module",
    "function",
    "builtin_function_or_method",
    "instance",
    "_Feature"
   ],
   "window_display": false
  }
 },
 "nbformat": 4,
 "nbformat_minor": 4
}
