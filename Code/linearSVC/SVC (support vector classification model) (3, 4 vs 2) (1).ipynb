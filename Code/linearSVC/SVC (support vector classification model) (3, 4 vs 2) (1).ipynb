{
 "cells": [
  {
   "cell_type": "markdown",
   "metadata": {},
   "source": [
    "# Support Vector Classification"
   ]
  },
  {
   "cell_type": "code",
   "execution_count": 1,
   "metadata": {},
   "outputs": [],
   "source": [
    "import sys\n",
    "sys.path.append(\"../\")\n",
    "from ortho_lib3_Copy2 import *"
   ]
  },
  {
   "cell_type": "markdown",
   "metadata": {},
   "source": [
    "## Import and load experiment"
   ]
  },
  {
   "cell_type": "code",
   "execution_count": 2,
   "metadata": {},
   "outputs": [],
   "source": [
    "data_dir = '../sliced_data'\n",
    "category = ['Category_1', 'Category_2', 'Category_3', 'Category_4']\n",
    "exercise = 'AB1.txt'\n",
    "extype = ['AB', 'AF', 'RF', 'EL']"
   ]
  },
  {
   "cell_type": "code",
   "execution_count": 3,
   "metadata": {},
   "outputs": [],
   "source": [
    "exercises = Exercises.load(\"..//Pickle/def_exercises_sliced_transformed_data_all_categories.pickle\")\n",
    "\n",
    "# setting the parameters to differentiate between 3, 4 and 2\n",
    "exercises = exercises.drop_category(1)\n",
    "exp = Experiment(exercises, y_condition= lambda y: (y != 'Category_2'))\n",
    "columns = exp.df.columns.to_numpy()"
   ]
  },
  {
   "cell_type": "markdown",
   "metadata": {},
   "source": [
    "## Preview dataframe"
   ]
  },
  {
   "cell_type": "code",
   "execution_count": 4,
   "metadata": {},
   "outputs": [
    {
     "name": "stdout",
     "output_type": "stream",
     "text": [
      "    angle_left_shoulder_xz_max_AF  angle_left_shoulder_xz_max_RF  \\\n",
      "0                        2.436920                       1.006761   \n",
      "1                        2.506438                       1.004394   \n",
      "2                        1.750021                       0.846239   \n",
      "3                        2.129875                       0.592590   \n",
      "4                        2.408378                       0.969648   \n",
      "..                            ...                            ...   \n",
      "79                       2.420555                       1.532106   \n",
      "80                       1.201943                       0.428302   \n",
      "81                       2.186121                       0.580735   \n",
      "82                       1.882206                       0.808175   \n",
      "83                       2.602110                       1.114584   \n",
      "\n",
      "    angle_right_shoulder_xz_max_AF  angle_right_shoulder_xz_max_RF  \\\n",
      "0                         2.854781                        1.492353   \n",
      "1                         2.430216                        0.942692   \n",
      "2                         1.693882                        0.926566   \n",
      "3                         2.596719                        0.774593   \n",
      "4                         2.435794                        1.015687   \n",
      "..                             ...                             ...   \n",
      "79                        2.390046                        1.290075   \n",
      "80                        2.347702                        0.429440   \n",
      "81                        2.082403                        0.712122   \n",
      "82                        2.064096                        0.987518   \n",
      "83                        2.614965                        1.054871   \n",
      "\n",
      "    angle_left_shoulder_yz_max_AB  angle_right_shoulder_yz_max_AB  \\\n",
      "0                        2.449418                        2.567337   \n",
      "1                        2.363443                        2.545257   \n",
      "2                        2.539127                        2.631044   \n",
      "3                        2.041966                        2.719333   \n",
      "4                        2.185690                        2.483305   \n",
      "..                            ...                             ...   \n",
      "79                       2.591977                        2.675785   \n",
      "80                       0.897281                        2.104353   \n",
      "81                       2.649783                        2.220724   \n",
      "82                       2.459425                        2.348511   \n",
      "83                       2.574107                        2.385383   \n",
      "\n",
      "    diff_x_wrist_std_EL  diff_x_wrist_std_AF  diff_x_wrist_std_RF  \\\n",
      "0              0.106902             0.186194             0.122632   \n",
      "1              0.124113             0.041740             0.031973   \n",
      "2              0.028811             0.026540             0.075991   \n",
      "3              0.186479             0.158048             0.267008   \n",
      "4              0.235828             0.057160             0.086497   \n",
      "..                  ...                  ...                  ...   \n",
      "79             0.067242             0.053520             0.045416   \n",
      "80             0.131204             0.461456             0.041716   \n",
      "81             0.022393             0.089273             0.157484   \n",
      "82             0.055195             0.085915             0.043581   \n",
      "83             0.037779             0.128872             0.047050   \n",
      "\n",
      "    diff_x_elbow_std_EL  ...  angular_acc_xz_elbow_r_mean_AF  \\\n",
      "0              0.071650  ...                        0.010789   \n",
      "1              0.057727  ...                        0.009480   \n",
      "2              0.025086  ...                        0.007872   \n",
      "3              0.069187  ...                        0.017188   \n",
      "4              0.054271  ...                        0.011178   \n",
      "..                  ...  ...                             ...   \n",
      "79             0.028010  ...                        0.021898   \n",
      "80             0.038488  ...                        0.030021   \n",
      "81             0.014435  ...                        0.036877   \n",
      "82             0.025565  ...                        0.026531   \n",
      "83             0.029085  ...                        0.032568   \n",
      "\n",
      "    angular_acc_xz_elbow_r_std_AF  angular_acc_xz_elbow_r_mean_RF  \\\n",
      "0                        0.009927                        0.025711   \n",
      "1                        0.011701                        0.010229   \n",
      "2                        0.010929                        0.007723   \n",
      "3                        0.029981                        0.022430   \n",
      "4                        0.013903                        0.009312   \n",
      "..                            ...                             ...   \n",
      "79                       0.022046                        0.029374   \n",
      "80                       0.039972                        0.009998   \n",
      "81                       0.036002                        0.044232   \n",
      "82                       0.030848                        0.030147   \n",
      "83                       0.019488                        0.023850   \n",
      "\n",
      "    angular_acc_xz_elbow_r_std_RF  angular_vel_yz_elbow_l_std_AB  \\\n",
      "0                        0.025676                       0.043592   \n",
      "1                        0.011686                       0.046195   \n",
      "2                        0.006885                       0.036618   \n",
      "3                        0.020106                       0.060316   \n",
      "4                        0.008978                       0.041339   \n",
      "..                            ...                            ...   \n",
      "79                       0.035492                       0.069536   \n",
      "80                       0.007187                       0.013514   \n",
      "81                       0.048294                       0.066856   \n",
      "82                       0.026745                       0.042285   \n",
      "83                       0.021694                       0.057128   \n",
      "\n",
      "    angular_vel_yz_elbow_r_std_AB  angular_acc_yz_elbow_l_mean_AB  \\\n",
      "0                        0.045790                        0.015279   \n",
      "1                        0.053882                        0.012215   \n",
      "2                        0.041675                        0.010405   \n",
      "3                        0.098761                        0.018198   \n",
      "4                        0.048522                        0.009418   \n",
      "..                            ...                             ...   \n",
      "79                       0.066380                        0.033381   \n",
      "80                       0.040844                        0.009843   \n",
      "81                       0.062815                        0.036638   \n",
      "82                       0.048514                        0.019478   \n",
      "83                       0.066880                        0.029559   \n",
      "\n",
      "    angular_acc_yz_elbow_l_std_AB  angular_acc_yz_elbow_r_mean_AB  \\\n",
      "0                        0.012023                        0.012660   \n",
      "1                        0.010071                        0.012145   \n",
      "2                        0.008925                        0.009402   \n",
      "3                        0.026365                        0.023955   \n",
      "4                        0.008248                        0.010349   \n",
      "..                            ...                             ...   \n",
      "79                       0.031042                        0.032047   \n",
      "80                       0.008446                        0.017797   \n",
      "81                       0.035517                        0.042551   \n",
      "82                       0.018303                        0.019738   \n",
      "83                       0.022851                        0.030719   \n",
      "\n",
      "    angular_acc_yz_elbow_r_std_AB  \n",
      "0                        0.012067  \n",
      "1                        0.012145  \n",
      "2                        0.008356  \n",
      "3                        0.040463  \n",
      "4                        0.010681  \n",
      "..                            ...  \n",
      "79                       0.036677  \n",
      "80                       0.019753  \n",
      "81                       0.033384  \n",
      "82                       0.018876  \n",
      "83                       0.026552  \n",
      "\n",
      "[84 rows x 78 columns]\n"
     ]
    }
   ],
   "source": [
    "# quick preview of the dataframe we are working with\n",
    "print(exp.df)"
   ]
  },
  {
   "cell_type": "markdown",
   "metadata": {},
   "source": [
    "## Run experiments for X and y"
   ]
  },
  {
   "cell_type": "code",
   "execution_count": 5,
   "metadata": {},
   "outputs": [],
   "source": [
    "X = exp.df.values\n",
    "y = exp.y\n",
    "\n",
    "# print(X)\n",
    "# print(y)"
   ]
  },
  {
   "cell_type": "markdown",
   "metadata": {},
   "source": [
    "## Import libraries"
   ]
  },
  {
   "cell_type": "code",
   "execution_count": 6,
   "metadata": {},
   "outputs": [],
   "source": [
    "from sklearn.model_selection import StratifiedKFold\n",
    "from sklearn import svm\n",
    "from sklearn.metrics import classification_report\n",
    "import pandas as pd\n",
    "import matplotlib.pyplot as plt"
   ]
  },
  {
   "cell_type": "markdown",
   "metadata": {},
   "source": [
    "## Applied SKF and get results"
   ]
  },
  {
   "cell_type": "code",
   "execution_count": 7,
   "metadata": {
    "scrolled": true
   },
   "outputs": [
    {
     "name": "stdout",
     "output_type": "stream",
     "text": [
      "-4\n",
      "precision: 0.3840073529411765 \n",
      "recall: 0.6191176470588236 \n",
      "f1_score: 0.4738071296894827 \n",
      "accuracy: 0.6191176470588236\n",
      "-3\n",
      "precision: 0.3840073529411765 \n",
      "recall: 0.6191176470588236 \n",
      "f1_score: 0.4738071296894827 \n",
      "accuracy: 0.6191176470588236\n",
      "-2\n",
      "precision: 0.5754201680672268 \n",
      "recall: 0.6205882352941177 \n",
      "f1_score: 0.5524030501089324 \n",
      "accuracy: 0.6205882352941177\n",
      "-1\n",
      "precision: 0.6049579831932773 \n",
      "recall: 0.6088235294117647 \n",
      "f1_score: 0.6028465651995064 \n",
      "accuracy: 0.6088235294117647\n",
      "0\n",
      "precision: 0.6115126050420169 \n",
      "recall: 0.6088235294117648 \n",
      "f1_score: 0.6069581398993165 \n",
      "accuracy: 0.6088235294117648\n",
      "1\n",
      "precision: 0.5428921568627451 \n",
      "recall: 0.5367647058823529 \n",
      "f1_score: 0.5349028989586265 \n",
      "accuracy: 0.5367647058823529\n",
      "2\n"
     ]
    },
    {
     "name": "stderr",
     "output_type": "stream",
     "text": [
      "/opt/jupyterhub/anaconda/lib/python3.6/site-packages/sklearn/metrics/_classification.py:1221: UndefinedMetricWarning:\n",
      "\n",
      "Precision and F-score are ill-defined and being set to 0.0 in labels with no predicted samples. Use `zero_division` parameter to control this behavior.\n",
      "\n",
      "/opt/jupyterhub/anaconda/lib/python3.6/site-packages/sklearn/metrics/_classification.py:1221: UndefinedMetricWarning:\n",
      "\n",
      "Precision and F-score are ill-defined and being set to 0.0 in labels with no predicted samples. Use `zero_division` parameter to control this behavior.\n",
      "\n",
      "/opt/jupyterhub/anaconda/lib/python3.6/site-packages/sklearn/metrics/_classification.py:1221: UndefinedMetricWarning:\n",
      "\n",
      "Precision and F-score are ill-defined and being set to 0.0 in labels with no predicted samples. Use `zero_division` parameter to control this behavior.\n",
      "\n",
      "/opt/jupyterhub/anaconda/lib/python3.6/site-packages/sklearn/metrics/_classification.py:1221: UndefinedMetricWarning:\n",
      "\n",
      "Precision and F-score are ill-defined and being set to 0.0 in labels with no predicted samples. Use `zero_division` parameter to control this behavior.\n",
      "\n",
      "/opt/jupyterhub/anaconda/lib/python3.6/site-packages/sklearn/metrics/_classification.py:1221: UndefinedMetricWarning:\n",
      "\n",
      "Precision and F-score are ill-defined and being set to 0.0 in labels with no predicted samples. Use `zero_division` parameter to control this behavior.\n",
      "\n",
      "/opt/jupyterhub/anaconda/lib/python3.6/site-packages/sklearn/metrics/_classification.py:1221: UndefinedMetricWarning:\n",
      "\n",
      "Precision and F-score are ill-defined and being set to 0.0 in labels with no predicted samples. Use `zero_division` parameter to control this behavior.\n",
      "\n",
      "/opt/jupyterhub/anaconda/lib/python3.6/site-packages/sklearn/metrics/_classification.py:1221: UndefinedMetricWarning:\n",
      "\n",
      "Precision and F-score are ill-defined and being set to 0.0 in labels with no predicted samples. Use `zero_division` parameter to control this behavior.\n",
      "\n",
      "/opt/jupyterhub/anaconda/lib/python3.6/site-packages/sklearn/metrics/_classification.py:1221: UndefinedMetricWarning:\n",
      "\n",
      "Precision and F-score are ill-defined and being set to 0.0 in labels with no predicted samples. Use `zero_division` parameter to control this behavior.\n",
      "\n",
      "/opt/jupyterhub/anaconda/lib/python3.6/site-packages/sklearn/metrics/_classification.py:1221: UndefinedMetricWarning:\n",
      "\n",
      "Precision and F-score are ill-defined and being set to 0.0 in labels with no predicted samples. Use `zero_division` parameter to control this behavior.\n",
      "\n",
      "/opt/jupyterhub/anaconda/lib/python3.6/site-packages/sklearn/metrics/_classification.py:1221: UndefinedMetricWarning:\n",
      "\n",
      "Precision and F-score are ill-defined and being set to 0.0 in labels with no predicted samples. Use `zero_division` parameter to control this behavior.\n",
      "\n",
      "/opt/jupyterhub/anaconda/lib/python3.6/site-packages/sklearn/svm/_base.py:977: ConvergenceWarning:\n",
      "\n",
      "Liblinear failed to converge, increase the number of iterations.\n",
      "\n",
      "/opt/jupyterhub/anaconda/lib/python3.6/site-packages/sklearn/svm/_base.py:977: ConvergenceWarning:\n",
      "\n",
      "Liblinear failed to converge, increase the number of iterations.\n",
      "\n",
      "/opt/jupyterhub/anaconda/lib/python3.6/site-packages/sklearn/svm/_base.py:977: ConvergenceWarning:\n",
      "\n",
      "Liblinear failed to converge, increase the number of iterations.\n",
      "\n",
      "/opt/jupyterhub/anaconda/lib/python3.6/site-packages/sklearn/svm/_base.py:977: ConvergenceWarning:\n",
      "\n",
      "Liblinear failed to converge, increase the number of iterations.\n",
      "\n",
      "/opt/jupyterhub/anaconda/lib/python3.6/site-packages/sklearn/svm/_base.py:977: ConvergenceWarning:\n",
      "\n",
      "Liblinear failed to converge, increase the number of iterations.\n",
      "\n",
      "/opt/jupyterhub/anaconda/lib/python3.6/site-packages/sklearn/svm/_base.py:977: ConvergenceWarning:\n",
      "\n",
      "Liblinear failed to converge, increase the number of iterations.\n",
      "\n",
      "/opt/jupyterhub/anaconda/lib/python3.6/site-packages/sklearn/svm/_base.py:977: ConvergenceWarning:\n",
      "\n",
      "Liblinear failed to converge, increase the number of iterations.\n",
      "\n"
     ]
    },
    {
     "name": "stdout",
     "output_type": "stream",
     "text": [
      "precision: 0.5525515334338864 \n",
      "recall: 0.5375 \n",
      "f1_score: 0.5299329137382711 \n",
      "accuracy: 0.5375\n",
      "3\n",
      "precision: 0.5028163992869875 \n",
      "recall: 0.4889705882352941 \n",
      "f1_score: 0.4892310544632526 \n",
      "accuracy: 0.4889705882352941\n",
      "4\n",
      "precision: 0.5724490378902143 \n",
      "recall: 0.549264705882353 \n",
      "f1_score: 0.52856512661197 \n",
      "accuracy: 0.549264705882353\n"
     ]
    },
    {
     "name": "stderr",
     "output_type": "stream",
     "text": [
      "/opt/jupyterhub/anaconda/lib/python3.6/site-packages/sklearn/svm/_base.py:977: ConvergenceWarning:\n",
      "\n",
      "Liblinear failed to converge, increase the number of iterations.\n",
      "\n",
      "/opt/jupyterhub/anaconda/lib/python3.6/site-packages/sklearn/svm/_base.py:977: ConvergenceWarning:\n",
      "\n",
      "Liblinear failed to converge, increase the number of iterations.\n",
      "\n",
      "/opt/jupyterhub/anaconda/lib/python3.6/site-packages/sklearn/svm/_base.py:977: ConvergenceWarning:\n",
      "\n",
      "Liblinear failed to converge, increase the number of iterations.\n",
      "\n",
      "/opt/jupyterhub/anaconda/lib/python3.6/site-packages/sklearn/svm/_base.py:977: ConvergenceWarning:\n",
      "\n",
      "Liblinear failed to converge, increase the number of iterations.\n",
      "\n",
      "/opt/jupyterhub/anaconda/lib/python3.6/site-packages/sklearn/svm/_base.py:977: ConvergenceWarning:\n",
      "\n",
      "Liblinear failed to converge, increase the number of iterations.\n",
      "\n",
      "/opt/jupyterhub/anaconda/lib/python3.6/site-packages/sklearn/svm/_base.py:977: ConvergenceWarning:\n",
      "\n",
      "Liblinear failed to converge, increase the number of iterations.\n",
      "\n",
      "/opt/jupyterhub/anaconda/lib/python3.6/site-packages/sklearn/svm/_base.py:977: ConvergenceWarning:\n",
      "\n",
      "Liblinear failed to converge, increase the number of iterations.\n",
      "\n",
      "/opt/jupyterhub/anaconda/lib/python3.6/site-packages/sklearn/svm/_base.py:977: ConvergenceWarning:\n",
      "\n",
      "Liblinear failed to converge, increase the number of iterations.\n",
      "\n",
      "/opt/jupyterhub/anaconda/lib/python3.6/site-packages/sklearn/svm/_base.py:977: ConvergenceWarning:\n",
      "\n",
      "Liblinear failed to converge, increase the number of iterations.\n",
      "\n",
      "/opt/jupyterhub/anaconda/lib/python3.6/site-packages/sklearn/svm/_base.py:977: ConvergenceWarning:\n",
      "\n",
      "Liblinear failed to converge, increase the number of iterations.\n",
      "\n",
      "/opt/jupyterhub/anaconda/lib/python3.6/site-packages/sklearn/svm/_base.py:977: ConvergenceWarning:\n",
      "\n",
      "Liblinear failed to converge, increase the number of iterations.\n",
      "\n",
      "/opt/jupyterhub/anaconda/lib/python3.6/site-packages/sklearn/svm/_base.py:977: ConvergenceWarning:\n",
      "\n",
      "Liblinear failed to converge, increase the number of iterations.\n",
      "\n",
      "/opt/jupyterhub/anaconda/lib/python3.6/site-packages/sklearn/svm/_base.py:977: ConvergenceWarning:\n",
      "\n",
      "Liblinear failed to converge, increase the number of iterations.\n",
      "\n",
      "/opt/jupyterhub/anaconda/lib/python3.6/site-packages/sklearn/svm/_base.py:977: ConvergenceWarning:\n",
      "\n",
      "Liblinear failed to converge, increase the number of iterations.\n",
      "\n"
     ]
    }
   ],
   "source": [
    "# introduce StratifiedKFold\n",
    "skf = StratifiedKFold(n_splits=5, random_state=None, shuffle=False)\n",
    "\n",
    "df_scores = pd.DataFrame()\n",
    "\n",
    "i=1\n",
    "c_list = []\n",
    "mean_precision_list = []\n",
    "mean_recall_list = []\n",
    "mean_f1_score_list = []\n",
    "mean_accuracy_list = []\n",
    "\n",
    "# iterate over different values for hyper parameter C for 0.0001 to 100000\n",
    "\n",
    "for iterate in range(-4, 5):\n",
    "    precision_list = []\n",
    "    recall_list = []\n",
    "    f1_score_list = []\n",
    "    accuracy_list=[]\n",
    "    c = 10 ** iterate\n",
    "    print(iterate)\n",
    "    \n",
    "    for train_index, test_index in skf.split(X, y):\n",
    "        \n",
    "        if iterate not in c_list:\n",
    "            c_list.append(iterate)\n",
    "        \n",
    "        Xtrain, Xtest = X[train_index], X[test_index]\n",
    "        ytrain, ytest = y[train_index], y[test_index]\n",
    "        regr = svm.LinearSVC(penalty='l2', loss='squared_hinge', C = c)\n",
    "        regr.fit(Xtrain, ytrain)\n",
    "        \n",
    "        ypred = regr.predict(Xtest)\n",
    "        \n",
    "        report = classification_report(ytest, ypred.round(), output_dict=True)\n",
    "        recall = (report.get('weighted avg').get('recall'))\n",
    "        precision = (report.get('weighted avg').get('precision'))\n",
    "        f1_score = (report.get('weighted avg').get('f1-score'))\n",
    "        accuracy = (report.get('accuracy'))\n",
    "        \n",
    "        # add results to the list\n",
    "        precision_list.append(precision)\n",
    "        recall_list.append(recall)\n",
    "        f1_score_list.append(f1_score)\n",
    "        accuracy_list.append(accuracy)\n",
    "        \n",
    "        i=i+1\n",
    "        \n",
    "    # take the mean of the list (needed because of the repetition due to SKF)\n",
    "    mean_precision_list.append(np.mean(precision_list))\n",
    "    mean_recall_list.append(np.mean(recall_list))\n",
    "    mean_f1_score_list.append(np.mean(f1_score_list))\n",
    "    mean_accuracy_list.append(np.mean(accuracy_list))\n",
    "    \n",
    "    df_scores['average'] = df_scores.mean(axis=1)\n",
    "    df_scores['feature'] = exp.df.columns\n",
    "    \n",
    "    # print the values for each hyper parameter\n",
    "    print(f'precision: {np.mean(precision_list)} \\nrecall: {np.mean(recall_list)} \\nf1_score: {np.mean(f1_score_list)} \\naccuracy: {np.mean(accuracy_list)}')"
   ]
  },
  {
   "cell_type": "markdown",
   "metadata": {},
   "source": [
    "## Plot figure to visualize optimal hyperparameter (c)"
   ]
  },
  {
   "cell_type": "code",
   "execution_count": 8,
   "metadata": {},
   "outputs": [
    {
     "data": {
      "image/png": "[encoded data removed]",
      "text/plain": [
       "<Figure size 432x288 with 1 Axes>"
      ]
     },
     "metadata": {
      "needs_background": "light"
     },
     "output_type": "display_data"
    }
   ],
   "source": [
    "# plot the results (precision, recall and accuracy) for every value of c from 10^-4 to 10^5 in steps of one in the exponent\n",
    "\n",
    "plt.plot(c_list, mean_precision_list, label='precision')\n",
    "plt.plot(c_list, mean_recall_list, label='recall', marker='o')\n",
    "plt.plot(c_list, mean_accuracy_list, label='accuracy')\n",
    "plt.xlabel('c (increasing by 10ex)')\n",
    "plt.ylabel('precision, recall, accuracy')\n",
    "plt.legend()\n",
    "plt.show()"
   ]
  },
  {
   "cell_type": "code",
   "execution_count": 9,
   "metadata": {
    "scrolled": true
   },
   "outputs": [
    {
     "data": {
      "application/vnd.jupyter.widget-view+json": {
       "model_id": "9fc820c3bbc1499e985d9139277e51ce",
       "version_major": 2,
       "version_minor": 0
      },
      "text/plain": [
       "VBox(children=(HTML(value=''), IntProgress(value=0, max=198)))"
      ]
     },
     "metadata": {},
     "output_type": "display_data"
    }
   ],
   "source": [
    "# create dataframes of the data\n",
    "\n",
    "dffs_test_1_234 = create_dfframes(['Category_1', 'Category_2', 'Category_3', 'Category_4'], \n",
    "                            extype = ['AB', 'AF', 'RF', 'EL'], \n",
    "                            data_dir = '../sliced_transformed_testdata', \n",
    "                            print_errors=True)\n",
    "exercises_test_1_234 = dffs_to_exercises(dffs_test_1_234)\n",
    "\n",
    "exercises_test_2_34 = exercises_test_1_234.drop_category(1)\n",
    "\n",
    "#exercises_test_2_34.df"
   ]
  },
  {
   "cell_type": "code",
   "execution_count": 10,
   "metadata": {},
   "outputs": [],
   "source": [
    "# run experiments in the loaded data\n",
    "\n",
    "exp_test_1_234 = Experiment(exercises_test_1_234, y_condition= lambda y: y != 'Category_1')\n",
    "columns = exp_test_1_234.df.columns.to_numpy()\n",
    "\n",
    "exp_test_2_34 = Experiment(exercises_test_2_34, y_condition= lambda y: y != 'Category_2')\n",
    "columns = exp_test_2_34.df.columns.to_numpy()\n",
    "\n",
    "# initialise the X test set and y test set\n",
    "\n",
    "X_test_1_234 = exp_test_1_234.df.values\n",
    "y_test_1_234 = exp_test_1_234.y\n",
    "\n",
    "X_test_2_34 = exp_test_2_34.df.values\n",
    "y_test_2_34 = exp_test_2_34.y"
   ]
  },
  {
   "cell_type": "code",
   "execution_count": 13,
   "metadata": {},
   "outputs": [],
   "source": [
    "# apply linear SVC on the data, using the optimal hyper parameter (in this case c = 1.0)\n",
    "\n",
    "regr_2_34 = svm.LinearSVC(penalty='l2', loss='squared_hinge', C = 1, max_iter=1000000)\n",
    "regr_2_34.fit(X, y)\n",
    "\n",
    "ypred_2_34 = regr_2_34.predict(X_test_2_34)    \n",
    "report_2_34 = classification_report(y_test_2_34, ypred_2_34.round(), output_dict=True)"
   ]
  },
  {
   "cell_type": "code",
   "execution_count": 14,
   "metadata": {
    "scrolled": true
   },
   "outputs": [
    {
     "name": "stdout",
     "output_type": "stream",
     "text": [
      "accuracy 3, 4 vs 2:  0.7368421052631579\n",
      "{'precision': 0.7314439946018894, 'recall': 0.7368421052631579, 'f1-score': 0.7319838056680162, 'support': 19}\n"
     ]
    }
   ],
   "source": [
    "print('accuracy 3, 4 vs 2: ', report_2_34['accuracy'])\n",
    "print(report_2_34['weighted avg'])"
   ]
  },
  {
   "cell_type": "markdown",
   "metadata": {},
   "source": []
  }
 ],
 "metadata": {
  "kernelspec": {
   "display_name": "Python 3",
   "language": "python",
   "name": "python3"
  },
  "language_info": {
   "codemirror_mode": {
    "name": "ipython",
    "version": 3
   },
   "file_extension": ".py",
   "mimetype": "text/x-python",
   "name": "python",
   "nbconvert_exporter": "python",
   "pygments_lexer": "ipython3",
   "version": "3.6.10"
  },
  "varInspector": {
   "cols": {
    "lenName": 16,
    "lenType": 16,
    "lenVar": 40
   },
   "kernels_config": {
    "python": {
     "delete_cmd_postfix": "",
     "delete_cmd_prefix": "del ",
     "library": "var_list.py",
     "varRefreshCmd": "print(var_dic_list())"
    },
    "r": {
     "delete_cmd_postfix": ") ",
     "delete_cmd_prefix": "rm(",
     "library": "var_list.r",
     "varRefreshCmd": "cat(var_dic_list()) "
    }
   },
   "types_to_exclude": [
    "module",
    "function",
    "builtin_function_or_method",
    "instance",
    "_Feature"
   ],
   "window_display": false
  }
 },
 "nbformat": 4,
 "nbformat_minor": 4
}
