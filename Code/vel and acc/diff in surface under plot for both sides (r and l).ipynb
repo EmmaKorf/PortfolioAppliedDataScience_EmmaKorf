{
 "cells": [
  {
   "cell_type": "markdown",
   "metadata": {},
   "source": [
    "# Import libraries"
   ]
  },
  {
   "cell_type": "code",
   "execution_count": 1,
   "metadata": {},
   "outputs": [],
   "source": [
    "import sys\n",
    "sys.path.append(\"../\")\n",
    "from ortho_lib3_Copy3 import *\n",
    "import pandas as pd\n",
    "import numpy as np\n",
    "import copy"
   ]
  },
  {
   "cell_type": "markdown",
   "metadata": {},
   "source": [
    "# Define functions and class"
   ]
  },
  {
   "cell_type": "code",
   "execution_count": 2,
   "metadata": {},
   "outputs": [],
   "source": [
    "# calculates the surface between sensor 1 and sensor 2 (right and left) and divides by the total amount of frames\n",
    "# pass: dataframe, axis (x, y, or z), sensor 1 and sensor 2 (right and left side)\n",
    "# returns: difference of surface divided by the amount of frames (.max() gives the maximum assymmerty calculated)\n",
    "def get_surf_diff(df, ax, s_1, s_2):\n",
    "    return df[ax + '_' + s_1] - df[ax + '_' + s_2]\n",
    "\n",
    "# filter out patients that have not completed all exercises\n",
    "def filter_incomplete_patients(exercises, exercises_types = ['AF', 'AB', 'EL', 'RF']):\n",
    "    new_exercises = copy.deepcopy(exercises)\n",
    "    for patient in exercises.patients:\n",
    "        keys = exercises[patient].keys()\n",
    "        for ex in exercises_types:\n",
    "            if ex not in keys:\n",
    "                new_exercises = new_exercises.drop_patient(patient)\n",
    "                print('dropped ' + str(patient) + ' because there is (a) missing exercise(s): ', list(keys))\n",
    "    return new_exercises\n",
    "\n",
    "# create class with features\n",
    "class ExtendedDF(DFFrame):\n",
    "    def __init__(self, *args, **kwargs):\n",
    "        super().__init__(*args, **kwargs)\n",
    "\n",
    "        self['surf_diff_elbows_x_l'] = get_surf_diff(self, 'x', '5').abs()\n",
    "        self['surf_diff_elbows_x_r'] = get_surf_diff(self, 'x', '8').abs()\n",
    "        self['surf_diff_elbows_y_l'] = get_surf_diff(self, 'y', '5').abs()\n",
    "        self['surf_diff_elbows_y_r'] = get_surf_diff(self, 'y', '8').abs()\n",
    "        self['surf_diff_elbows_z_l'] = get_surf_diff(self, 'z', '5').abs()\n",
    "        self['surf_diff_elbows_z_r'] = get_surf_diff(self, 'z', '8').abs()\n",
    "                "
   ]
  },
  {
   "cell_type": "markdown",
   "metadata": {},
   "source": [
    "# Create usable dataframe"
   ]
  },
  {
   "cell_type": "code",
   "execution_count": 3,
   "metadata": {},
   "outputs": [
    {
     "data": {
      "application/vnd.jupyter.widget-view+json": {
       "model_id": "1d86b8dd13aa4f30b187c48dcbead5fc",
       "version_major": 2,
       "version_minor": 0
      },
      "text/plain": [
       "VBox(children=(HTML(value=''), IntProgress(value=0, max=692)))"
      ]
     },
     "metadata": {},
     "output_type": "display_data"
    }
   ],
   "source": [
    "dfs = create_dfframes([2,3,4], \n",
    "                extype= ['AB', 'AF', 'EL', 'RF'], \n",
    "                data_dir = '../transformed_data', \n",
    "                print_errors = False, \n",
    "                show_progress = True)"
   ]
  },
  {
   "cell_type": "markdown",
   "metadata": {},
   "source": [
    "# Add features to patient"
   ]
  },
  {
   "cell_type": "code",
   "execution_count": 4,
   "metadata": {},
   "outputs": [
    {
     "name": "stdout",
     "output_type": "stream",
     "text": [
      "dropped 441 because there is (a) missing exercise(s):  ['AB', 'EL', 'RF']\n",
      "dropped 423 because there is (a) missing exercise(s):  ['AB', 'AF', 'RF']\n",
      "dropped 421 because there is (a) missing exercise(s):  ['AB', 'AF', 'RF']\n"
     ]
    }
   ],
   "source": [
    "Patient.add_features(['diff_x_elbow'], ['AB'], ['max'])\n",
    "Patient.add_features(['diff_y_elbow'], ['AB'], ['max'])\n",
    "Patient.add_features(['diff_z_elbow'], ['AB'], ['max'])\n",
    "\n",
    "exercises = dffs_to_exercises(dfs)\n",
    "exercises = filter_incomplete_patients(exercises)"
   ]
  },
  {
   "cell_type": "markdown",
   "metadata": {},
   "source": [
    "# Run experiment"
   ]
  },
  {
   "cell_type": "code",
   "execution_count": 5,
   "metadata": {
    "scrolled": true
   },
   "outputs": [],
   "source": [
    "exp = Experiment(exercises, y_condition = lambda cat: cat != 'Category_2')"
   ]
  },
  {
   "cell_type": "markdown",
   "metadata": {},
   "source": [
    "# Retreive results of experiment for specific factor"
   ]
  },
  {
   "cell_type": "code",
   "execution_count": 6,
   "metadata": {},
   "outputs": [],
   "source": [
    "factor = 1.1\n",
    "results = exp.fit_inliers_ensemble(['diff_x_elbow_max_AB'], factor)\n",
    "results = exp.fit_inliers_ensemble(['diff_y_elbow_max_AB'], factor, results=results)\n",
    "results = exp.fit_inliers_ensemble(['diff_z_elbow_max_AB'], factor, results=results)"
   ]
  },
  {
   "cell_type": "code",
   "execution_count": 7,
   "metadata": {},
   "outputs": [
    {
     "data": {
      "text/html": [
       "<div>\n",
       "<style scoped>\n",
       "    .dataframe tbody tr th:only-of-type {\n",
       "        vertical-align: middle;\n",
       "    }\n",
       "\n",
       "    .dataframe tbody tr th {\n",
       "        vertical-align: top;\n",
       "    }\n",
       "\n",
       "    .dataframe thead th {\n",
       "        text-align: right;\n",
       "    }\n",
       "</style>\n",
       "<table border=\"1\" class=\"dataframe\">\n",
       "  <thead>\n",
       "    <tr style=\"text-align: right;\">\n",
       "      <th></th>\n",
       "      <th>features</th>\n",
       "      <th>recall</th>\n",
       "      <th>precision</th>\n",
       "      <th>accuracy</th>\n",
       "    </tr>\n",
       "  </thead>\n",
       "  <tbody>\n",
       "    <tr>\n",
       "      <th>0</th>\n",
       "      <td>diff_y_elbow_max_AB</td>\n",
       "      <td>0.0</td>\n",
       "      <td>0.0</td>\n",
       "      <td>0.360825</td>\n",
       "    </tr>\n",
       "    <tr>\n",
       "      <th>1</th>\n",
       "      <td>diff_x_elbow_max_AB</td>\n",
       "      <td>0.0</td>\n",
       "      <td>0.0</td>\n",
       "      <td>0.360825</td>\n",
       "    </tr>\n",
       "    <tr>\n",
       "      <th>2</th>\n",
       "      <td>diff_z_elbow_max_AB</td>\n",
       "      <td>0.0</td>\n",
       "      <td>0.0</td>\n",
       "      <td>0.371134</td>\n",
       "    </tr>\n",
       "  </tbody>\n",
       "</table>\n",
       "</div>"
      ],
      "text/plain": [
       "              features  recall  precision  accuracy\n",
       "0  diff_y_elbow_max_AB     0.0        0.0  0.360825\n",
       "1  diff_x_elbow_max_AB     0.0        0.0  0.360825\n",
       "2  diff_z_elbow_max_AB     0.0        0.0  0.371134"
      ]
     },
     "execution_count": 7,
     "metadata": {},
     "output_type": "execute_result"
    }
   ],
   "source": [
    "results.report()"
   ]
  },
  {
   "cell_type": "code",
   "execution_count": null,
   "metadata": {},
   "outputs": [],
   "source": []
  }
 ],
 "metadata": {
  "kernelspec": {
   "display_name": "Python 3",
   "language": "python",
   "name": "python3"
  },
  "language_info": {
   "codemirror_mode": {
    "name": "ipython",
    "version": 3
   },
   "file_extension": ".py",
   "mimetype": "text/x-python",
   "name": "python",
   "nbconvert_exporter": "python",
   "pygments_lexer": "ipython3",
   "version": "3.6.10"
  },
  "varInspector": {
   "cols": {
    "lenName": 16,
    "lenType": 16,
    "lenVar": 40
   },
   "kernels_config": {
    "python": {
     "delete_cmd_postfix": "",
     "delete_cmd_prefix": "del ",
     "library": "var_list.py",
     "varRefreshCmd": "print(var_dic_list())"
    },
    "r": {
     "delete_cmd_postfix": ") ",
     "delete_cmd_prefix": "rm(",
     "library": "var_list.r",
     "varRefreshCmd": "cat(var_dic_list()) "
    }
   },
   "types_to_exclude": [
    "module",
    "function",
    "builtin_function_or_method",
    "instance",
    "_Feature"
   ],
   "window_display": false
  }
 },
 "nbformat": 4,
 "nbformat_minor": 4
}
